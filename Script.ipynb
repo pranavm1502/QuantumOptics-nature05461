{
 "cells": [
  {
   "cell_type": "markdown",
   "metadata": {},
   "source": [
    "# Script to reproduce Nature 445, 515-518\n",
    "The system can be discribed by the Hamiltonian (in strong dispersive regime, under rotating frame and with RWA) and a set of collapse operators: \n",
    "$$\n",
    "\\begin{align}\n",
    "H &= H_0 - H_R + H_{rf} + H_s \\\\\n",
    "H_0 &= \\omega_r (a^\\dagger a + 1/2) + \\omega_q \\sigma_z/2 + \\chi (a^\\dagger a + 1/2)\\sigma_z \\\\\n",
    "H_R &= \\omega_rf a^\\dagger a + \\omega_s \\sigma_z/2 \\\\\n",
    "H_{rf} &= \\epsilon_{rf}(a+a^\\dagger) \\\\\n",
    "H_s &= (g/\\Delta)\\epsilon_s  (\\sigma^+ + \\sigma^-) \\\\\n",
    "C_n &\\in \\{\\sqrt{\\kappa(1+n_{th})} a, \\sqrt{\\kappa n_{th}} a^\\dagger, \\sqrt{\\gamma}\\sigma^-, \\sqrt{\\gamma_\\phi}\\sigma_z\\}\n",
    "\\end{align}\n",
    "$$\n",
    "\n",
    "The master equation: \n",
    "$$\n",
    "\\dot\\rho = -i[\\rho, H] + \\frac 12 \\sum_n \\big(2C_n\\rho C_n^\\dagger - \\{\\rho, C_n^\\dagger C_n\\}\\big)\n",
    "$$"
   ]
  },
  {
   "cell_type": "code",
   "execution_count": null,
   "metadata": {
    "collapsed": true
   },
   "outputs": [],
   "source": [
    "import numpy as np\n",
    "import matplotlib.pyplot as plt\n",
    "from qutip import *"
   ]
  },
  {
   "cell_type": "code",
   "execution_count": 3,
   "metadata": {
    "collapsed": true
   },
   "outputs": [],
   "source": [
    "# The constants parameters used\n",
    "# All the units are MHz\n",
    "wr = 5.7E3 * 2 * np.pi    # resonator frequency\n",
    "wq = 6.95E3 * 2 * np.pi   # qubit frequency\n",
    "chi = -17 * np.pi         # parameter in the dispersive hamiltonian\n",
    "\n",
    "kappa = 0.25 * 2 * np.pi  # damping rate for cavity\n",
    "gamma = 1.8 * 2 * np.pi   # relaxation rate for qubit (1/T1)\n",
    "gammap = 1.0 * 2 * np.pi  # dephasing rate for qubit (1/T2)\n",
    "\n",
    "Delta = np.abs(wr - wq)    # detuning\n",
    "g = np.sqrt(-Delta * chi)  # coupling strength that is consistent with chi"
   ]
  },
  {
   "cell_type": "code",
   "execution_count": 4,
   "metadata": {},
   "outputs": [
    {
     "data": {
      "text/plain": [
       "(1250.0000000000007, 103.07764064044154)"
      ]
     },
     "execution_count": 4,
     "metadata": {},
     "output_type": "execute_result"
    }
   ],
   "source": [
    "# compare detuning and g, the first should be much larger than the second\n",
    "Delta/(2*np.pi), g/(2*np.pi)"
   ]
  },
  {
   "cell_type": "code",
   "execution_count": 4,
   "metadata": {
    "collapsed": true
   },
   "outputs": [],
   "source": [
    "# The operators we are going to use\n",
    "N = 20 # The truncate \n",
    "# cavity operators\n",
    "a = tensor(destroy(N), qeye(2))\n",
    "nc = a.dag() * a\n",
    "# xc = a + a.dag()\n",
    "\n",
    "# atomic operators\n",
    "sp = tensor(qeye(N), destroy(2)) # simga^+\n",
    "sm = sp.dag()                    # sigma^-\n",
    "sz = tensor(qeye(N), sigmaz()) \n",
    "sx = tensor(qeye(N), sigmax())\n",
    "# nq = sm.dag() * sm\n",
    "# xq = sm + sm.dag() = sx\n",
    "\n",
    "I = tensor(qeye(N), qeye(2))\n",
    "\n",
    "# collapse operators\n",
    "def c_ops(nth = 0.1): \n",
    "    return [np.sqrt(kappa*(1+nth)) * a, \n",
    "    np.sqrt(kappa*nth) * a.dag(), # damping for cavity\n",
    "    np.sqrt(gamma) * sm,     # relaxation for qubit\n",
    "    np.sqrt(gammap) * sz]    # dephasing for qubit\n",
    "\n",
    "# dispersive hamiltonian\n",
    "H0 = wr * (a.dag() * a + I/2.0) + (wq / 2.0) * sz + \\\n",
    "    chi * (a.dag() * a + I/2) * sz\n",
    "delta = 2.0 * 2 * np.pi \n",
    "wrf0 = wr - chi + delta    # RF freq (pumping) .... \n",
    "# rotating frame diff\n",
    "def Hr(ws, wrf = wrf0): \n",
    "    return wrf * a.dag() * a + (ws / 2.0) * sz"
   ]
  },
  {
   "cell_type": "markdown",
   "metadata": {},
   "source": [
    "## Photon number distribution\n",
    "Before going any futher, we want to check if the truncate is valid, by checking the photon number distribution. \n",
    "\n",
    "The following codes get photon number distribution for $\\epsilon_{rf} = 30$ MHz by ploting the diagonal elements of $\\mathrm{Tr}_q \\rho$ with $\\rho$ being the steady state density matrix."
   ]
  },
  {
   "cell_type": "code",
   "execution_count": 5,
   "metadata": {
    "collapsed": true
   },
   "outputs": [],
   "source": [
    "def cavity(erf, wrf=wrf0): \n",
    "    \"\"\"\n",
    "    Return the steady state of the system\n",
    "    without any sweaping signals /or qubit at ground state. \n",
    "    erf: The strength of RF signal (driving for cavity)\n",
    "    wrf: The frequency of RF signal\n",
    "    \"\"\"\n",
    "    Hrf = erf * (a + a.dag())\n",
    "    H = H0 - Hr(0.0, wrf) + Hrf \n",
    "    rhoss = steadystate(H, c_ops()) \n",
    "    return rhoss"
   ]
  },
  {
   "cell_type": "code",
   "execution_count": 13,
   "metadata": {},
   "outputs": [
    {
     "data": {
      "image/png": "[encoded data removed]",
      "text/plain": [
       "<matplotlib.figure.Figure at 0x7f6472fbc400>"
      ]
     },
     "metadata": {},
     "output_type": "display_data"
    }
   ],
   "source": [
    "rhoc = cavity(30, wrf0).ptrace(0)\n",
    "plt.bar(np.arange(0, N), rhoc.diag())\n",
    "plt.show()"
   ]
  },
  {
   "cell_type": "markdown",
   "metadata": {},
   "source": [
    "From the above, we can see that photon number near/over 20 has extremely small probabilities: the truncate is valid. "
   ]
  },
  {
   "cell_type": "markdown",
   "metadata": {},
   "source": [
    "## Average photon number\n",
    "The following calculate average photon number $\\langle a^\\dagger a\\rangle$ v.s. $\\epsilon_{rf}$ and $\\omega_{rf}$. This part should be calculated analytically. "
   ]
  },
  {
   "cell_type": "code",
   "execution_count": 14,
   "metadata": {},
   "outputs": [
    {
     "data": {
      "image/png": "[encoded data removed]",
      "text/plain": [
       "<matplotlib.figure.Figure at 0x7f6472028ba8>"
      ]
     },
     "metadata": {},
     "output_type": "display_data"
    }
   ],
   "source": [
    "erflist = np.linspace(0, 30, 200)\n",
    "nbarlist = [expect(a.dag()*a, cavity(erf, wrf0)) for erf in erflist]\n",
    "plt.plot(erflist, nbarlist)\n",
    "plt.show()"
   ]
  },
  {
   "cell_type": "code",
   "execution_count": 15,
   "metadata": {},
   "outputs": [
    {
     "data": {
      "image/png": "[encoded data removed]",
      "text/plain": [
       "<matplotlib.figure.Figure at 0x7f6471e3b550>"
      ]
     },
     "metadata": {},
     "output_type": "display_data"
    }
   ],
   "source": [
    "# wrflist = np.linspace(wr+chi+delta-20, wr-chi+delta+20, 100)\n",
    "wrflist = wrf0 + np.linspace(-80, 80, 500)\n",
    "nbarlist = [expect(a.dag()*a, cavity(20, wrf)) for wrf in wrflist]\n",
    "plt.plot(wrflist, nbarlist)\n",
    "plt.show()\n",
    "# at resonance the trumcate does not work well"
   ]
  },
  {
   "cell_type": "markdown",
   "metadata": {},
   "source": [
    "Note that the weired downwards curve on resonance is the result of breaking of truncate: when it's on resonance, average photon number becomes large, so the truncate is no longer valid. "
   ]
  },
  {
   "cell_type": "markdown",
   "metadata": {},
   "source": [
    "## Sweaping signal result"
   ]
  },
  {
   "cell_type": "code",
   "execution_count": 6,
   "metadata": {
    "collapsed": true
   },
   "outputs": [],
   "source": [
    "def with_sweaping(erf, ws, esp=0.1):\n",
    "    \"\"\"\n",
    "    Return the steady state of the system with sweaping signals.\n",
    "    erf: The strength of RF signal (driving for cavity)\n",
    "    ws: The frequency of the sweaping signal\n",
    "    esp: The strength of the sweaping signal (in our case, it's small\n",
    "            so that the qubit is approximately at ground state)\n",
    "    \"\"\"\n",
    "    Hrf = erf * (a + a.dag())\n",
    "    Hsp = esp * (g/Delta) * sx\n",
    "    rhoss = steadystate(H0 - Hr(ws) + Hrf + Hsp, c_ops()) \n",
    "    return rhoss"
   ]
  },
  {
   "cell_type": "code",
   "execution_count": 7,
   "metadata": {
    "collapsed": true
   },
   "outputs": [],
   "source": [
    "wslist = 2 * np.pi * np.linspace(6.75E3, 7.0E3, 500)"
   ]
  },
  {
   "cell_type": "markdown",
   "metadata": {},
   "source": [
    "Note that we are measuring the reduction of transmitted amplitude. The transmitted amplitude is $\\left|\\langle a + a^\\dagger\\rangle\\right|^2$"
   ]
  },
  {
   "cell_type": "code",
   "execution_count": 22,
   "metadata": {},
   "outputs": [
    {
     "name": "stdout",
     "output_type": "stream",
     "text": [
      "Ibar=0.006283, nbar=0.001577\n"
     ]
    },
    {
     "data": {
      "image/png": "[encoded data removed]",
      "text/plain": [
       "<matplotlib.figure.Figure at 0x7f6471de0a90>"
      ]
     },
     "metadata": {},
     "output_type": "display_data"
    }
   ],
   "source": [
    "erf = 0.5 # This quantity varies\n",
    "rho_non_sw = cavity(erf)\n",
    "Ibar = (expect(a.dag() + a, rho_non_sw))**2 \n",
    "nbar = (expect(a.dag() * a, rho_non_sw)) - 0.1 # 0.1 is default n_th\n",
    "print(\"Ibar=%f, nbar=%f\"%(Ibar,nbar))\n",
    "trans = np.array([\n",
    "    expect(a.dag() + a, with_sweaping(erf, w, 0.1)) \n",
    "    for w in wslist]) \n",
    "plt.plot(wslist/(2*np.pi),  Ibar - trans**2 )\n",
    "plt.gca().invert_xaxis()\n",
    "plt.show()"
   ]
  },
  {
   "cell_type": "markdown",
   "metadata": {},
   "source": [
    "For small average photon number, when the signal is at the middle of  two peak, we do not have reduction of transmission strength but an increasing. This unexpected result may come from an interference strengthing of two modes. "
   ]
  },
  {
   "cell_type": "markdown",
   "metadata": {
    "collapsed": true
   },
   "source": [
    "## Further attampt\n",
    "Check the difference of average photon number with/out sweaping signals"
   ]
  },
  {
   "cell_type": "code",
   "execution_count": 8,
   "metadata": {},
   "outputs": [
    {
     "data": {
      "image/png": "[encoded data removed]",
      "text/plain": [
       "<matplotlib.figure.Figure at 0x7f0c44801eb8>"
      ]
     },
     "metadata": {},
     "output_type": "display_data"
    }
   ],
   "source": [
    "erf = 0.5 # This quantity varies\n",
    "nbar_diff = np.array([\n",
    "    expect(a.dag() * a, with_sweaping(erf, w, 0.1)) \n",
    "    for w in wslist]) - expect(a.dag() * a, cavity(erf))\n",
    "plt.plot(wslist/(2*np.pi),  nbar_diff )\n",
    "plt.gca().invert_xaxis()\n",
    "plt.show()"
   ]
  },
  {
   "cell_type": "markdown",
   "metadata": {},
   "source": [
    "The weird thing is that with smaller transmission at the peak, we have greater photon number. To find out what happened, it is also meaningful to check the difference of photon number at one peak and at the abnormally strengthing between two peak. "
   ]
  },
  {
   "cell_type": "code",
   "execution_count": 19,
   "metadata": {},
   "outputs": [
    {
     "data": {
      "image/png": "[encoded data removed]",
      "text/plain": [
       "<matplotlib.figure.Figure at 0x7f0c4408e128>"
      ]
     },
     "metadata": {},
     "output_type": "display_data"
    }
   ],
   "source": [
    "photon_no_sw = cavity(erf).ptrace(0)\n",
    "photon_sw1 = with_sweaping(erf, 6942, 0.1).ptrace(0) # at n=0 peak\n",
    "plt.bar(np.arange(N), photon_sw1.diag() - photon_no_sw.diag())\n",
    "plt.show()"
   ]
  },
  {
   "cell_type": "code",
   "execution_count": 20,
   "metadata": {},
   "outputs": [
    {
     "data": {
      "image/png": "[encoded data removed]",
      "text/plain": [
       "<matplotlib.figure.Figure at 0x7f0c3c23bcc0>"
      ]
     },
     "metadata": {},
     "output_type": "display_data"
    }
   ],
   "source": [
    "photon_sw2 = with_sweaping(erf, 6929, 0.1).ptrace(0) # between two peak\n",
    "plt.bar(np.arange(N), photon_sw2.diag() - photon_no_sw.diag())\n",
    "plt.show()"
   ]
  },
  {
   "cell_type": "code",
   "execution_count": 22,
   "metadata": {},
   "outputs": [
    {
     "data": {
      "image/png": "[encoded data removed]",
      "text/plain": [
       "<matplotlib.figure.Figure at 0x7f0c3ffd9048>"
      ]
     },
     "metadata": {},
     "output_type": "display_data"
    }
   ],
   "source": [
    "plt.bar(np.arange(N), photon_sw2.diag() - photon_sw1.diag())\n",
    "plt.show()"
   ]
  },
  {
   "cell_type": "code",
   "execution_count": null,
   "metadata": {
    "collapsed": true
   },
   "outputs": [],
   "source": []
  }
 ],
 "metadata": {
  "kernelspec": {
   "display_name": "Python 3",
   "language": "python",
   "name": "python3"
  },
  "language_info": {
   "codemirror_mode": {
    "name": "ipython",
    "version": 3
   },
   "file_extension": ".py",
   "mimetype": "text/x-python",
   "name": "python",
   "nbconvert_exporter": "python",
   "pygments_lexer": "ipython3",
   "version": "3.6.0"
  }
 },
 "nbformat": 4,
 "nbformat_minor": 2
}
